{
 "cells": [
  {
   "cell_type": "markdown",
   "id": "34decd82",
   "metadata": {},
   "source": [
    "\n",
    "# Inteligência Artificial: Model LifeCycle TP2 - Breast Cancer Wisconsin\n"
   ]
  },
  {
   "cell_type": "code",
   "execution_count": null,
   "id": "1960edf1",
   "metadata": {},
   "outputs": [],
   "source": [
    "import numpy as np\n",
    "import pandas as pd\n",
    "import matplotlib.pyplot as plt\n",
    "import seaborn as sns\n",
    "\n",
    "from sklearn.datasets import load_breast_cancer\n",
    "from sklearn.model_selection import train_test_split\n",
    "from sklearn.preprocessing import StandardScaler\n",
    "from sklearn.neighbors import KNeighborsClassifier\n",
    "from sklearn.linear_model import LinearRegression\n",
    "from sklearn.metrics import accuracy_score, confusion_matrix, classification_report, r2_score, mean_squared_error\n"
   ]
  },
  {
   "cell_type": "markdown",
   "id": "1c71ecaf",
   "metadata": {},
   "source": [
    "## Carregamento e Pré-processamento dos Dados"
   ]
  },
  {
   "cell_type": "code",
   "execution_count": null,
   "id": "06b210cb",
   "metadata": {},
   "outputs": [],
   "source": [
    "\n",
    "data = load_breast_cancer()\n",
    "X = pd.DataFrame(data.data, columns=data.feature_names)\n",
    "y = data.target\n",
    "\n",
    "X.head()\n"
   ]
  },
  {
   "cell_type": "markdown",
   "id": "eeb4a54a",
   "metadata": {},
   "source": [
    "## Separação de dados para Classificação"
   ]
  },
  {
   "cell_type": "code",
   "execution_count": null,
   "id": "c66239de",
   "metadata": {},
   "outputs": [],
   "source": [
    "\n",
    "X_train, X_test, y_train, y_test = train_test_split(X, y, test_size=0.2, random_state=42)\n",
    "\n",
    "scaler = StandardScaler()\n",
    "X_train_scaled = scaler.fit_transform(X_train)\n",
    "X_test_scaled = scaler.transform(X_test)\n"
   ]
  },
  {
   "cell_type": "markdown",
   "id": "94b66c3e",
   "metadata": {},
   "source": [
    "## Treinamento e Avaliação do Modelo KNN"
   ]
  },
  {
   "cell_type": "code",
   "execution_count": null,
   "id": "34125646",
   "metadata": {},
   "outputs": [],
   "source": [
    "\n",
    "knn = KNeighborsClassifier(n_neighbors=5)\n",
    "knn.fit(X_train_scaled, y_train)\n",
    "\n",
    "y_pred = knn.predict(X_test_scaled)\n",
    "\n",
    "acc = accuracy_score(y_test, y_pred)\n",
    "print(f\"Acurácia: {acc:.4f}\")\n",
    "\n",
    "cm = confusion_matrix(y_test, y_pred)\n",
    "sns.heatmap(cm, annot=True, fmt='d', cmap='Blues')\n",
    "plt.xlabel('Predito')\n",
    "plt.ylabel('Real')\n",
    "plt.title('Matriz de Confusão')\n",
    "plt.show()\n"
   ]
  },
  {
   "cell_type": "markdown",
   "id": "ab98f811",
   "metadata": {},
   "source": [
    "## Análise da Performance com Variação de K"
   ]
  },
  {
   "cell_type": "code",
   "execution_count": null,
   "id": "e904f0ee",
   "metadata": {},
   "outputs": [],
   "source": [
    "\n",
    "k_values = range(1, 21)\n",
    "accuracies = []\n",
    "\n",
    "for k in k_values:\n",
    "    knn = KNeighborsClassifier(n_neighbors=k)\n",
    "    knn.fit(X_train_scaled, y_train)\n",
    "    y_pred = knn.predict(X_test_scaled)\n",
    "    accuracies.append(accuracy_score(y_test, y_pred))\n",
    "\n",
    "plt.plot(k_values, accuracies, marker='o')\n",
    "plt.xlabel('K')\n",
    "plt.ylabel('Acurácia')\n",
    "plt.title('Acurácia vs K')\n",
    "plt.show()\n"
   ]
  },
  {
   "cell_type": "markdown",
   "id": "e10bf2ce",
   "metadata": {},
   "source": [
    "## Geração de Dados Sintéticos com Ruído"
   ]
  },
  {
   "cell_type": "code",
   "execution_count": null,
   "id": "8e1d10a8",
   "metadata": {},
   "outputs": [],
   "source": [
    "\n",
    "noise = np.random.normal(0, 0.1, X.shape)\n",
    "X_synthetic = X + noise\n",
    "\n",
    "X_augmented = pd.concat([X, pd.DataFrame(X_synthetic, columns=X.columns)])\n",
    "y_augmented = np.concatenate([y, y])\n",
    "\n",
    "print(\"Dados aumentados:\")\n",
    "print(X_augmented.shape)\n"
   ]
  },
  {
   "cell_type": "markdown",
   "id": "8d860b90",
   "metadata": {},
   "source": [
    "## Separação de dados para Regressão"
   ]
  },
  {
   "cell_type": "code",
   "execution_count": null,
   "id": "99e2cd4c",
   "metadata": {},
   "outputs": [],
   "source": [
    "\n",
    "y_reg = X['mean area']\n",
    "\n",
    "X_reg = X.drop(columns=['mean area'])\n",
    "\n",
    "X_train_reg, X_test_reg, y_train_reg, y_test_reg = train_test_split(X_reg, y_reg, test_size=0.2, random_state=42)\n",
    "\n",
    "X_train_reg_scaled = scaler.fit_transform(X_train_reg)\n",
    "X_test_reg_scaled = scaler.transform(X_test_reg)\n"
   ]
  },
  {
   "cell_type": "markdown",
   "id": "ea3895cb",
   "metadata": {},
   "source": [
    "## Treinamento e Avaliação do Modelo de Regressão Linear"
   ]
  },
  {
   "cell_type": "code",
   "execution_count": null,
   "id": "fe9fb4a9",
   "metadata": {},
   "outputs": [],
   "source": [
    "\n",
    "lr = LinearRegression()\n",
    "lr.fit(X_train_reg_scaled, y_train_reg)\n",
    "\n",
    "y_pred_reg = lr.predict(X_test_reg_scaled)\n",
    "\n",
    "r2 = r2_score(y_test_reg, y_pred_reg)\n",
    "print(f\"R²: {r2:.4f}\")\n",
    "\n",
    "plt.scatter(y_test_reg, y_pred_reg, alpha=0.7)\n",
    "plt.xlabel('Valor Real')\n",
    "plt.ylabel('Valor Predito')\n",
    "plt.title('Dispersão: Real vs Predito')\n",
    "plt.show()\n",
    "\n",
    "residuos = y_test_reg - y_pred_reg\n",
    "sns.histplot(residuos, kde=True)\n",
    "plt.xlabel('Resíduo')\n",
    "plt.title('Histograma dos Resíduos')\n",
    "plt.show()\n"
   ]
  },
  {
   "cell_type": "markdown",
   "id": "1af8c5bf",
   "metadata": {},
   "source": [
    "## Conclusão"
   ]
  },
  {
   "cell_type": "markdown",
   "id": "8590bc2c",
   "metadata": {},
   "source": [
    "\n",
    "- O modelo KNN apresentou boa acurácia, mas sua performance varia conforme o valor de K.\n",
    "- A geração de dados sintéticos permite aumentar a base de dados, porém com certeza deve se ter cuidado.\n",
    "- A regressão linear foi avaliada através do R² e análise dos resíduos.\n"
   ]
  }
 ],
 "metadata": {
  "language_info": {
   "name": "python"
  }
 },
 "nbformat": 4,
 "nbformat_minor": 5
}
